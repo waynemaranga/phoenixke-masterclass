{
  "nbformat": 4,
  "nbformat_minor": 0,
  "metadata": {
    "colab": {
      "provenance": [],
      "include_colab_link": true
    },
    "kernelspec": {
      "name": "python3",
      "display_name": "Python 3"
    },
    "language_info": {
      "name": "python"
    }
  },
  "cells": [
    {
      "cell_type": "markdown",
      "metadata": {
        "id": "view-in-github",
        "colab_type": "text"
      },
      "source": [
        "<a href=\"https://colab.research.google.com/github/waynemaranga/phoenixke-masterclass/blob/main/Capstone_Project_Group_7.ipynb\" target=\"_parent\"><img src=\"https://colab.research.google.com/assets/colab-badge.svg\" alt=\"Open In Colab\"/></a>"
      ]
    },
    {
      "cell_type": "markdown",
      "source": [
        "# Capstone Project Group 7\n",
        "Dennis, Joan, Lisa and Wayne\n",
        "The Best"
      ],
      "metadata": {
        "id": "DeHuMTyIEhgB"
      }
    },
    {
      "cell_type": "markdown",
      "source": [
        "## Imports"
      ],
      "metadata": {
        "id": "HL3lS6EmEqw2"
      }
    },
    {
      "cell_type": "code",
      "source": [
        "# Libraries to assist us\n",
        "import requests\n",
        "from bs4 import BeautifulSoup\n",
        "import time\n",
        "import csv # for csv file operations\n",
        "import os # to access operating system"
      ],
      "metadata": {
        "id": "jaFy4KNlzSp9"
      },
      "execution_count": 1,
      "outputs": []
    },
    {
      "cell_type": "markdown",
      "source": [
        "## Request Parameters\n",
        "### Heading level 3\n",
        "#### Heading level 4\n",
        "\n",
        "This is **bold**\n",
        "\n",
        "This is _italic_\n"
      ],
      "metadata": {
        "id": "b_N2uJf4Ew1Q"
      }
    },
    {
      "cell_type": "code",
      "source": [
        "BASE_URL = \"http://books.toscrape.com/\" # one base to request multiple URLs/pages without repeating too many times\n",
        "HEADERS = {\"User-Agent\": \"ScraperBotbyLisaDennisandWayne\"} # a request header; carries info about the request; for scraping rules\n",
        "SLEEP_TIME = 1  # seconds between requests; some delays for respecting sites"
      ],
      "metadata": {
        "id": "s0os7BT3zUZo"
      },
      "execution_count": 2,
      "outputs": []
    },
    {
      "cell_type": "markdown",
      "source": [
        "## Get html as string i.e soup"
      ],
      "metadata": {
        "id": "wrs3813NFK27"
      }
    },
    {
      "cell_type": "code",
      "source": [
        "# -- A soup is a site's html as a string\n",
        "def get_soup(url):\n",
        "    try:\n",
        "        response = requests.get(url, headers=HEADERS) # gets the HTML as raw html using the headers\n",
        "        response.raise_for_status() # raises error if any with http error code\n",
        "        return BeautifulSoup(response.text, \"html.parser\") # returns the soup and the parser to use\n",
        "\n",
        "        # This except block handles any error with the requests function for example invalid urls\n",
        "    except requests.exceptions.RequestException as e:\n",
        "        print(f\"[ERROR] Failed to fetch {url} - {e}\")\n",
        "        return None\n",
        "    except Exception as ex:\n",
        "      print(f\"[ERROR] Encountered ambiguous error: - {ex}\")\n",
        "      return None"
      ],
      "metadata": {
        "id": "nYjhVrZdzZSR"
      },
      "execution_count": 3,
      "outputs": []
    },
    {
      "cell_type": "code",
      "source": [
        "# print(get_soup(\"https://www.facebook.com\"))"
      ],
      "metadata": {
        "id": "bJNrIllC1bNe"
      },
      "execution_count": 4,
      "outputs": []
    },
    {
      "cell_type": "code",
      "source": [
        "# -- This function is tailored the books to scrape site\n",
        "def extract_product_info(product):\n",
        "    try:\n",
        "      # This information is got from inspecting the page using developer tools\n",
        "      # Each item (likely) belongs in a tag, a nested tag or something close to it\n",
        "      # 1. Inspect page 2. Inspect page using\n",
        "        title = product.h3.a['title'].strip()\n",
        "        relative_url = product.h3.a['href']\n",
        "        product_url = BASE_URL + 'catalogue/' + relative_url.replace('../../../', '')\n",
        "        price = product.select_one('.price_color').text.strip().replace('£', '') # .select_one(identifier) finds any html element using this identifier/class/attribute and returns a list or one item\n",
        "        availability = product.select_one('.availability').text.strip()\n",
        "        star_class = product.select_one('.star-rating')['class']\n",
        "        star_rating = convert_star_rating(star_class[1]) # converts html star elements into a rating\n",
        "\n",
        "        # Go to individual product page for verification or more details\n",
        "        return {\n",
        "            \"Title\": title,\n",
        "            \"Price\": price,\n",
        "            \"Availability\": availability,\n",
        "            \"Star Rating\": star_rating,\n",
        "            \"URL\": product_url\n",
        "        }\n",
        "        # handles any error\n",
        "    except Exception as e: # uses Python's base Exception which handles all exceptions\n",
        "        print(f\"[ERROR] Failed to parse product info - {e}\")\n",
        "        return None\n",
        "\n",
        "    except KeyboardInterrupt as k:\n",
        "      return None"
      ],
      "metadata": {
        "id": "_jHg4dhvzqto"
      },
      "execution_count": 5,
      "outputs": []
    },
    {
      "cell_type": "code",
      "source": [
        "# Not essential\n",
        "def convert_star_rating(star_str):\n",
        "    stars = {\n",
        "        \"One\": 1, \"Two\": 2, \"Three\": 3,\n",
        "        \"Four\": 4, \"Five\": 5\n",
        "    }\n",
        "    return stars.get(star_str, 0)"
      ],
      "metadata": {
        "id": "oNBAVsh_zuN8"
      },
      "execution_count": 6,
      "outputs": []
    },
    {
      "cell_type": "code",
      "execution_count": 7,
      "metadata": {
        "id": "eYMXzD0atheO"
      },
      "outputs": [],
      "source": [
        "# Getting categories in the first place from homepage\n",
        "def get_categories():\n",
        "    soup = get_soup(BASE_URL) # get the soup of the homepage\n",
        "    if not soup:\n",
        "        return {}\n",
        "\n",
        "    category_links = soup.select('.side_categories ul li ul li a') # from the soup get the list and urls of categories\n",
        "    categories = {} # dictionary for category name and url\n",
        "    for a in category_links:\n",
        "        name = a.text.strip()\n",
        "        rel_url = a['href'] # e.g '/catalogue/category/books_1/index.html'\n",
        "        full_url = BASE_URL + rel_url # add base url to relative url : https://books.toscrape.com/catalogue/category/books_1/index.html\n",
        "        categories[name] = full_url\n",
        "    return categories\n",
        "\n"
      ]
    },
    {
      "cell_type": "code",
      "source": [
        "print(get_categories())"
      ],
      "metadata": {
        "colab": {
          "base_uri": "https://localhost:8080/"
        },
        "id": "jgzLjx5M7s_b",
        "outputId": "bcabf533-582b-4be5-fad0-4d52d89c515d"
      },
      "execution_count": 8,
      "outputs": [
        {
          "output_type": "stream",
          "name": "stdout",
          "text": [
            "{'Travel': 'http://books.toscrape.com/catalogue/category/books/travel_2/index.html', 'Mystery': 'http://books.toscrape.com/catalogue/category/books/mystery_3/index.html', 'Historical Fiction': 'http://books.toscrape.com/catalogue/category/books/historical-fiction_4/index.html', 'Sequential Art': 'http://books.toscrape.com/catalogue/category/books/sequential-art_5/index.html', 'Classics': 'http://books.toscrape.com/catalogue/category/books/classics_6/index.html', 'Philosophy': 'http://books.toscrape.com/catalogue/category/books/philosophy_7/index.html', 'Romance': 'http://books.toscrape.com/catalogue/category/books/romance_8/index.html', 'Womens Fiction': 'http://books.toscrape.com/catalogue/category/books/womens-fiction_9/index.html', 'Fiction': 'http://books.toscrape.com/catalogue/category/books/fiction_10/index.html', 'Childrens': 'http://books.toscrape.com/catalogue/category/books/childrens_11/index.html', 'Religion': 'http://books.toscrape.com/catalogue/category/books/religion_12/index.html', 'Nonfiction': 'http://books.toscrape.com/catalogue/category/books/nonfiction_13/index.html', 'Music': 'http://books.toscrape.com/catalogue/category/books/music_14/index.html', 'Default': 'http://books.toscrape.com/catalogue/category/books/default_15/index.html', 'Science Fiction': 'http://books.toscrape.com/catalogue/category/books/science-fiction_16/index.html', 'Sports and Games': 'http://books.toscrape.com/catalogue/category/books/sports-and-games_17/index.html', 'Add a comment': 'http://books.toscrape.com/catalogue/category/books/add-a-comment_18/index.html', 'Fantasy': 'http://books.toscrape.com/catalogue/category/books/fantasy_19/index.html', 'New Adult': 'http://books.toscrape.com/catalogue/category/books/new-adult_20/index.html', 'Young Adult': 'http://books.toscrape.com/catalogue/category/books/young-adult_21/index.html', 'Science': 'http://books.toscrape.com/catalogue/category/books/science_22/index.html', 'Poetry': 'http://books.toscrape.com/catalogue/category/books/poetry_23/index.html', 'Paranormal': 'http://books.toscrape.com/catalogue/category/books/paranormal_24/index.html', 'Art': 'http://books.toscrape.com/catalogue/category/books/art_25/index.html', 'Psychology': 'http://books.toscrape.com/catalogue/category/books/psychology_26/index.html', 'Autobiography': 'http://books.toscrape.com/catalogue/category/books/autobiography_27/index.html', 'Parenting': 'http://books.toscrape.com/catalogue/category/books/parenting_28/index.html', 'Adult Fiction': 'http://books.toscrape.com/catalogue/category/books/adult-fiction_29/index.html', 'Humor': 'http://books.toscrape.com/catalogue/category/books/humor_30/index.html', 'Horror': 'http://books.toscrape.com/catalogue/category/books/horror_31/index.html', 'History': 'http://books.toscrape.com/catalogue/category/books/history_32/index.html', 'Food and Drink': 'http://books.toscrape.com/catalogue/category/books/food-and-drink_33/index.html', 'Christian Fiction': 'http://books.toscrape.com/catalogue/category/books/christian-fiction_34/index.html', 'Business': 'http://books.toscrape.com/catalogue/category/books/business_35/index.html', 'Biography': 'http://books.toscrape.com/catalogue/category/books/biography_36/index.html', 'Thriller': 'http://books.toscrape.com/catalogue/category/books/thriller_37/index.html', 'Contemporary': 'http://books.toscrape.com/catalogue/category/books/contemporary_38/index.html', 'Spirituality': 'http://books.toscrape.com/catalogue/category/books/spirituality_39/index.html', 'Academic': 'http://books.toscrape.com/catalogue/category/books/academic_40/index.html', 'Self Help': 'http://books.toscrape.com/catalogue/category/books/self-help_41/index.html', 'Historical': 'http://books.toscrape.com/catalogue/category/books/historical_42/index.html', 'Christian': 'http://books.toscrape.com/catalogue/category/books/christian_43/index.html', 'Suspense': 'http://books.toscrape.com/catalogue/category/books/suspense_44/index.html', 'Short Stories': 'http://books.toscrape.com/catalogue/category/books/short-stories_45/index.html', 'Novels': 'http://books.toscrape.com/catalogue/category/books/novels_46/index.html', 'Health': 'http://books.toscrape.com/catalogue/category/books/health_47/index.html', 'Politics': 'http://books.toscrape.com/catalogue/category/books/politics_48/index.html', 'Cultural': 'http://books.toscrape.com/catalogue/category/books/cultural_49/index.html', 'Erotica': 'http://books.toscrape.com/catalogue/category/books/erotica_50/index.html', 'Crime': 'http://books.toscrape.com/catalogue/category/books/crime_51/index.html'}\n"
          ]
        }
      ]
    },
    {
      "cell_type": "code",
      "source": [
        "# Since the page has many categories; for each category get it's soup\n",
        "# Pagination function; made possible by inspection\n",
        "def get_category_pages(category_url):\n",
        "    pages = [category_url]\n",
        "    soup = get_soup(category_url)\n",
        "    if not soup:\n",
        "        return []\n",
        "\n",
        "    pager = soup.select_one('.current') # select current page\n",
        "    if pager:\n",
        "        total_pages = int(pager.text.strip().split()[-1]) # get no. of pages\n",
        "        for page_num in range(2, total_pages + 1):\n",
        "            paginated_url = category_url.replace('index.html', f'page-{page_num}.html') # replace current page with page no.s\n",
        "            pages.append(paginated_url)\n",
        "    return pages"
      ],
      "metadata": {
        "id": "HPgd_Bhozw04"
      },
      "execution_count": 9,
      "outputs": []
    },
    {
      "cell_type": "code",
      "source": [
        "print(get_category_pages(\"http://books.toscrape.com/catalogue/category/books/default_15/index.html\"))"
      ],
      "metadata": {
        "colab": {
          "base_uri": "https://localhost:8080/"
        },
        "id": "l049V1777-c9",
        "outputId": "6bdbd4f1-1191-426a-8c3b-def87fa0338f"
      },
      "execution_count": 10,
      "outputs": [
        {
          "output_type": "stream",
          "name": "stdout",
          "text": [
            "['http://books.toscrape.com/catalogue/category/books/default_15/index.html', 'http://books.toscrape.com/catalogue/category/books/default_15/page-2.html', 'http://books.toscrape.com/catalogue/category/books/default_15/page-3.html', 'http://books.toscrape.com/catalogue/category/books/default_15/page-4.html', 'http://books.toscrape.com/catalogue/category/books/default_15/page-5.html', 'http://books.toscrape.com/catalogue/category/books/default_15/page-6.html', 'http://books.toscrape.com/catalogue/category/books/default_15/page-7.html', 'http://books.toscrape.com/catalogue/category/books/default_15/page-8.html']\n"
          ]
        }
      ]
    },
    {
      "cell_type": "code",
      "source": [
        "print(get_category_pages(\"http://books.toscrape.com/catalogue/category/books/sequential-art_5/index.html\"))"
      ],
      "metadata": {
        "colab": {
          "base_uri": "https://localhost:8080/"
        },
        "id": "BxhWoIwR8TjF",
        "outputId": "9ef4e90f-211f-4070-fad2-93a9dee77053"
      },
      "execution_count": 11,
      "outputs": [
        {
          "output_type": "stream",
          "name": "stdout",
          "text": [
            "['http://books.toscrape.com/catalogue/category/books/sequential-art_5/index.html', 'http://books.toscrape.com/catalogue/category/books/sequential-art_5/page-2.html', 'http://books.toscrape.com/catalogue/category/books/sequential-art_5/page-3.html', 'http://books.toscrape.com/catalogue/category/books/sequential-art_5/page-4.html']\n"
          ]
        }
      ]
    },
    {
      "cell_type": "code",
      "source": [
        "# Scrape category...\n",
        "def scrape_category(category_name, category_url):\n",
        "    print(f\"\\n[INFO] Scraping category: {category_name}\")\n",
        "    all_data = []\n",
        "    pages = get_category_pages(category_url) # all pages in category to be scraped\n",
        "\n",
        "    for page_url in pages:\n",
        "        print(f\"[INFO] Scraping page: {page_url}\")\n",
        "        soup = get_soup(page_url) # get the soup\n",
        "        if not soup:\n",
        "            continue\n",
        "\n",
        "        products = soup.select('article.product_pod') # find a product card\n",
        "        for product in products:\n",
        "            info = extract_product_info(product) # from product extract info e.g title and price\n",
        "            if info:\n",
        "                all_data.append(info)\n",
        "        time.sleep(SLEEP_TIME)\n",
        "\n",
        "    save_to_csv(category_name, all_data)\n",
        "\n",
        "def save_to_csv(category, data):\n",
        "    os.makedirs(\"output\", exist_ok=True)\n",
        "    filename = f\"output/{category.replace(' ', '_').lower()}.csv\"\n",
        "    with open(filename, \"w\", newline='', encoding='utf-8') as f:\n",
        "        writer = csv.DictWriter(f, fieldnames=[\"Title\", \"Price\", \"Availability\", \"Star Rating\", \"URL\"])\n",
        "        writer.writeheader()\n",
        "        for row in data:\n",
        "            writer.writerow(row)\n",
        "    print(f\"[SUCCESS] Saved {len(data)} items to {filename}\")\n"
      ],
      "metadata": {
        "id": "2uXdZdkh0SwP"
      },
      "execution_count": 12,
      "outputs": []
    },
    {
      "cell_type": "code",
      "source": [
        "def save_to_csv(category, data):\n",
        "    os.makedirs(\"output\", exist_ok=True)\n",
        "    filename = f\"output/{category.replace(' ', '_').lower()}.csv\"\n",
        "    with open(filename, \"w\", newline='', encoding='utf-8') as f:\n",
        "        writer = csv.DictWriter(f, fieldnames=[\"Title\", \"Price\", \"Availability\", \"Star Rating\", \"URL\"])\n",
        "        writer.writeheader()\n",
        "        for row in data:\n",
        "            writer.writerow(row)\n",
        "    print(f\"[SUCCESS] Saved {len(data)} items to {filename}\")\n"
      ],
      "metadata": {
        "id": "2afkGchk9cEV"
      },
      "execution_count": 13,
      "outputs": []
    },
    {
      "cell_type": "code",
      "source": [
        "# prompt: generate a list of all categories using get_categories() i.e create a list\n",
        "\n",
        "categories_list = list(get_categories().keys())\n"
      ],
      "metadata": {
        "id": "JZ4YuiD8GuuO"
      },
      "execution_count": 14,
      "outputs": []
    },
    {
      "cell_type": "code",
      "source": [
        "def main():\n",
        "    categories = get_categories() # get all categories\n",
        "    if not categories:\n",
        "        print(\"[ERROR] No categories found.\")\n",
        "        return\n",
        "\n",
        "    # selected_categories = list(categories.items())[:5]  # Take any 5 categories; these are dictionaries\n",
        "    selected_categories = list(categories.items())  # Take any 5 categories; these are dictionaries\n",
        "    for category_name, category_url in selected_categories: # name is key, url is value\n",
        "        scrape_category(category_name, category_url) # scrape and write to csv\n"
      ],
      "metadata": {
        "id": "muJknA0N0COQ",
        "collapsed": true
      },
      "execution_count": 15,
      "outputs": []
    },
    {
      "cell_type": "code",
      "source": [
        "print(list(get_categories().keys()))"
      ],
      "metadata": {
        "colab": {
          "base_uri": "https://localhost:8080/"
        },
        "id": "CvPzbAbEHMam",
        "outputId": "3be5ca79-8a2f-435d-e1c8-fbe153e1b73b"
      },
      "execution_count": 16,
      "outputs": [
        {
          "output_type": "stream",
          "name": "stdout",
          "text": [
            "['Travel', 'Mystery', 'Historical Fiction', 'Sequential Art', 'Classics', 'Philosophy', 'Romance', 'Womens Fiction', 'Fiction', 'Childrens', 'Religion', 'Nonfiction', 'Music', 'Default', 'Science Fiction', 'Sports and Games', 'Add a comment', 'Fantasy', 'New Adult', 'Young Adult', 'Science', 'Poetry', 'Paranormal', 'Art', 'Psychology', 'Autobiography', 'Parenting', 'Adult Fiction', 'Humor', 'Horror', 'History', 'Food and Drink', 'Christian Fiction', 'Business', 'Biography', 'Thriller', 'Contemporary', 'Spirituality', 'Academic', 'Self Help', 'Historical', 'Christian', 'Suspense', 'Short Stories', 'Novels', 'Health', 'Politics', 'Cultural', 'Erotica', 'Crime']\n"
          ]
        }
      ]
    },
    {
      "cell_type": "code",
      "source": [
        "main()"
      ],
      "metadata": {
        "id": "Em0Y_48X1sKY",
        "colab": {
          "base_uri": "https://localhost:8080/"
        },
        "outputId": "1665a1ea-d558-4e91-c591-11096efc819c"
      },
      "execution_count": null,
      "outputs": [
        {
          "output_type": "stream",
          "name": "stdout",
          "text": [
            "\n",
            "[INFO] Scraping category: Travel\n",
            "[INFO] Scraping page: http://books.toscrape.com/catalogue/category/books/travel_2/index.html\n",
            "[SUCCESS] Saved 11 items to output/travel.csv\n",
            "\n",
            "[INFO] Scraping category: Mystery\n",
            "[INFO] Scraping page: http://books.toscrape.com/catalogue/category/books/mystery_3/index.html\n",
            "[INFO] Scraping page: http://books.toscrape.com/catalogue/category/books/mystery_3/page-2.html\n",
            "[SUCCESS] Saved 32 items to output/mystery.csv\n",
            "\n",
            "[INFO] Scraping category: Historical Fiction\n",
            "[INFO] Scraping page: http://books.toscrape.com/catalogue/category/books/historical-fiction_4/index.html\n",
            "[INFO] Scraping page: http://books.toscrape.com/catalogue/category/books/historical-fiction_4/page-2.html\n",
            "[SUCCESS] Saved 26 items to output/historical_fiction.csv\n",
            "\n",
            "[INFO] Scraping category: Sequential Art\n",
            "[INFO] Scraping page: http://books.toscrape.com/catalogue/category/books/sequential-art_5/index.html\n",
            "[INFO] Scraping page: http://books.toscrape.com/catalogue/category/books/sequential-art_5/page-2.html\n",
            "[INFO] Scraping page: http://books.toscrape.com/catalogue/category/books/sequential-art_5/page-3.html\n",
            "[INFO] Scraping page: http://books.toscrape.com/catalogue/category/books/sequential-art_5/page-4.html\n",
            "[SUCCESS] Saved 75 items to output/sequential_art.csv\n",
            "\n",
            "[INFO] Scraping category: Classics\n",
            "[INFO] Scraping page: http://books.toscrape.com/catalogue/category/books/classics_6/index.html\n",
            "[SUCCESS] Saved 19 items to output/classics.csv\n",
            "\n",
            "[INFO] Scraping category: Philosophy\n",
            "[INFO] Scraping page: http://books.toscrape.com/catalogue/category/books/philosophy_7/index.html\n",
            "[SUCCESS] Saved 11 items to output/philosophy.csv\n",
            "\n",
            "[INFO] Scraping category: Romance\n"
          ]
        }
      ]
    },
    {
      "cell_type": "code",
      "source": [
        "from google.colab import drive\n",
        "drive.mount('/content/drive')"
      ],
      "metadata": {
        "id": "0ujA6c3D121I"
      },
      "execution_count": null,
      "outputs": []
    },
    {
      "cell_type": "code",
      "source": [
        "folder = '/content/output'  # use /content/drive/MyDrive/... if needed"
      ],
      "metadata": {
        "id": "U6kfSVe52KLd"
      },
      "execution_count": null,
      "outputs": []
    },
    {
      "cell_type": "code",
      "source": [
        "files = os.listdir(folder)\n",
        "print(\"Files found:\", files)"
      ],
      "metadata": {
        "id": "cdBV5BWx2Qqw",
        "collapsed": true
      },
      "execution_count": null,
      "outputs": []
    },
    {
      "cell_type": "code",
      "source": [
        "SEQUENTIAL_ART_CSV = '/content/output/sequential_art.csv'\n",
        "MYSTERY_CSV = '/content/output/mystery.csv'\n",
        "TRAVEL_CSV = '/content/output/travel.csv'\n",
        "CLASSICS_CSV = '/content/output/classics.csv'\n",
        "HISTORICAL_FICTION = '/content/output/historical_fiction.csv'"
      ],
      "metadata": {
        "id": "AxlB1Mg223Tf"
      },
      "execution_count": null,
      "outputs": []
    },
    {
      "cell_type": "code",
      "source": [
        "# prompt: Create dfs for these files too: Files found: ['music.csv', 'crime.csv', 'biography.csv', 'historical.csv', 'history.csv', 'childrens.csv', 'food_and_drink.csv', 'mystery.csv', 'new_adult.csv', 'health.csv', 'contemporary.csv', 'business.csv', 'young_adult.csv', 'short_stories.csv', 'cultural.csv', 'romance.csv', 'novels.csv', 'autobiography.csv', 'add_a_comment.csv', 'science.csv', 'default.csv', 'travel.csv', 'nonfiction.csv', 'adult_fiction.csv', 'philosophy.csv', 'classics.csv', 'thriller.csv', 'fantasy.csv', 'politics.csv', 'fiction.csv', 'christian.csv', 'parenting.csv', 'science_fiction.csv', 'sequential_art.csv', 'horror.csv', 'poetry.csv', 'historical_fiction.csv', 'academic.csv', 'erotica.csv', 'womens_fiction.csv', 'art.csv', 'self_help.csv', 'psychology.csv', 'religion.csv', 'suspense.csv', 'humor.csv', 'christian_fiction.csv', 'paranormal.csv', 'sports_and_games.csv', 'spirituality.csv']\n",
        "\n",
        "import pandas as pd\n",
        "\n",
        "dfs = {} # all the dataframes\n",
        "for file_name in files:\n",
        "  if file_name.endswith('.csv'):\n",
        "    df_name = file_name.replace('.csv', '')\n",
        "    try:\n",
        "      dfs[df_name] = pd.read_csv(os.path.join(folder, file_name))\n",
        "      # print(f\"Successfully created DataFrame for {file_name}\")\n",
        "    except Exception as e:\n",
        "      print(f\"[ERROR] Failed to create DataFrame for {file_name} - {e}\")"
      ],
      "metadata": {
        "id": "fyzLhhAdIiLx"
      },
      "execution_count": null,
      "outputs": []
    },
    {
      "cell_type": "code",
      "source": [
        "import pandas as pd\n",
        "\n",
        "SEQUENTIAL_DF = pd.read_csv(SEQUENTIAL_ART_CSV)\n",
        "MYSTERY_DF = pd.read_csv(MYSTERY_CSV)\n",
        "TRAVEL_DF = pd.read_csv(TRAVEL_CSV)\n",
        "CLASSICS_DF = pd.read_csv(CLASSICS_CSV)\n",
        "HISTORICAL_FICTION_DF = pd.read_csv(HISTORICAL_FICTION)\n"
      ],
      "metadata": {
        "id": "5L99IHTV3MTe"
      },
      "execution_count": null,
      "outputs": []
    },
    {
      "cell_type": "code",
      "source": [
        "# prompt: import matplotlib, pyplot and seaborn\n",
        "\n",
        "import matplotlib\n",
        "import matplotlib.pyplot as plt\n",
        "import seaborn as sns"
      ],
      "metadata": {
        "id": "PdaP2jHXAwjN"
      },
      "execution_count": null,
      "outputs": []
    },
    {
      "cell_type": "code",
      "source": [
        "# Check summary of dataframes/csvs. We already know they have the same structure\n",
        "print(SEQUENTIAL_DF.info()) # for Sequential art"
      ],
      "metadata": {
        "id": "mrLTpTVJA1Nh"
      },
      "execution_count": null,
      "outputs": []
    },
    {
      "cell_type": "code",
      "source": [
        "# prompt: # prompt: for every dataframe, remove (in place) the title and url\n",
        "# dataframes = [SEQUENTIAL_DF, MYSTERY_DF, TRAVEL_DF, CLASSICS_DF, HISTORICAL_FICTION_DF]\n",
        "# for df in dataframes:\n",
        "#     if 'Title' in df.columns:\n",
        "#         df.drop('Title', axis=1, inplace=True)\n",
        "#     if 'URL' in df.columns:\n",
        "#         df.drop('URL', axis=1, inplace=True)\n",
        "#     if 'Availability' in df.columns:\n",
        "#         df.drop('Availability', axis=1, inplace=True)\n",
        "#     if 'Price' in df.columns:\n",
        "#         df['Price'] = df['Price'].astype(str).str.replace('Â', '', regex=False)\n",
        "# Update this to use all the csvs i.e update the list of csvs to include all csvs\n",
        "\n",
        "dataframes = dfs.values()\n",
        "\n",
        "for df in dataframes:\n",
        "    if 'Title' in df.columns:\n",
        "        df.drop('Title', axis=1, inplace=True)\n",
        "    if 'URL' in df.columns:\n",
        "        df.drop('URL', axis=1, inplace=True)\n",
        "    if 'Availability' in df.columns:\n",
        "        df.drop('Availability', axis=1, inplace=True)\n",
        "    if 'Price' in df.columns:\n",
        "        df['Price'] = df['Price'].astype(str).str.replace('Â', '', regex=False)\n"
      ],
      "metadata": {
        "id": "0GO_xMlcJAAh"
      },
      "execution_count": null,
      "outputs": []
    },
    {
      "cell_type": "code",
      "source": [
        "# print(list(dfs.values())[5])"
      ],
      "metadata": {
        "id": "Gn-P_wfzJbsU"
      },
      "execution_count": null,
      "outputs": []
    },
    {
      "cell_type": "code",
      "source": [
        "category_names = [name.replace('_', ' ').title() for name in dfs.keys()]\n",
        "print(category_names)"
      ],
      "metadata": {
        "id": "0NAAC_AzKV3F"
      },
      "execution_count": null,
      "outputs": []
    },
    {
      "cell_type": "code",
      "source": [
        "total_books_overall = 0\n",
        "total_price_overall = 0.0\n",
        "total_rating_overall = 0.0\n",
        "total_books_count = 0\n",
        "\n",
        "print(\"--- Basic Statistics per Dataframe ---\")\n",
        "for i, df in enumerate(dataframes):\n",
        "    category_name = category_names[i]\n",
        "    total_books_df = len(df)\n",
        "    avg_price_df = df['Price'].astype(float).mean() if total_books_df > 0 else 0\n",
        "    avg_rating_df = df['Star Rating'].mean() if total_books_df > 0 else 0\n",
        "\n",
        "    print(f\"\\nCategory: {category_name}\")\n",
        "    print(f\"Total books: {total_books_df}\")\n",
        "    print(f\"Average book price: £{avg_price_df:.2f}\")\n",
        "    print(f\"Average rating: {avg_rating_df:.2f}\")\n",
        "\n",
        "    total_books_overall += total_books_df\n",
        "    total_price_overall += df['Price'].astype(float).sum()\n",
        "    total_rating_overall += df['Star Rating'].sum()\n",
        "    total_books_count += total_books_df\n",
        "\n",
        "print(\"\\n--- Overall Basic Statistics ---\")\n",
        "avg_price_overall = total_price_overall / total_books_count if total_books_count > 0 else 0\n",
        "avg_rating_overall = total_rating_overall / total_books_count if total_books_count > 0 else 0\n",
        "\n",
        "print(f\"Total books overall: {total_books_overall}\")\n",
        "print(f\"Average price overall: £{avg_price_overall:.2f}\")\n",
        "print(f\"Average rating overall: {avg_rating_overall:.2f}\")\n",
        "\n",
        "print(\"\\n--- Average Rating per Category ---\")\n",
        "for i, df in enumerate(dataframes):\n",
        "    category_name = category_names[i]\n",
        "    avg_rating_df = df['Star Rating'].mean() if len(df) > 0 else 0\n",
        "    print(f\"{category_name}: {avg_rating_df:.2f}\")\n"
      ],
      "metadata": {
        "id": "7IfP-YOG3zxw"
      },
      "execution_count": null,
      "outputs": []
    },
    {
      "cell_type": "code",
      "source": [
        "# Compute statistics\n",
        "category_book_counts = {name: len(df) for name, df in zip(category_names, dataframes)}\n",
        "category_avg_prices = {name: df['Price'].astype(float).mean() if len(df) > 0 else 0 for name, df in zip(category_names, dataframes)}\n",
        "category_ratings = {name: df['Star Rating'].mean() if len(df) > 0 else 0 for name, df in zip(category_names, dataframes)}\n"
      ],
      "metadata": {
        "id": "Dh2JgTqZCapk"
      },
      "execution_count": null,
      "outputs": []
    },
    {
      "cell_type": "code",
      "source": [
        "# Combine for distribution plots\n",
        "combined_df = pd.concat([\n",
        "    df.assign(Category=cat) for df, cat in zip(dataframes, category_names)\n",
        "], ignore_index=True)\n",
        "combined_df['Price'] = combined_df['Price'].astype(float)"
      ],
      "metadata": {
        "id": "caDIn8jdDtlJ"
      },
      "execution_count": null,
      "outputs": []
    },
    {
      "cell_type": "code",
      "source": [
        "# Cell 2: Bar Graph - Total Books per Category\n",
        "plt.figure(figsize=(10, 6))\n",
        "sns.barplot(x=list(category_book_counts.keys()), y=list(category_book_counts.values()))\n",
        "plt.title('Total Books per Category')\n",
        "plt.xlabel('Category')\n",
        "plt.ylabel('Total Books')\n",
        "plt.xticks(rotation=45, ha='right')\n",
        "plt.tight_layout()\n",
        "plt.show()"
      ],
      "metadata": {
        "id": "0rmngfVbDypn"
      },
      "execution_count": null,
      "outputs": []
    },
    {
      "cell_type": "code",
      "source": [
        "# Cell 3: Bar Graph - Average Price per Category\n",
        "plt.figure(figsize=(10, 6))\n",
        "sns.barplot(x=list(category_avg_prices.keys()), y=list(category_avg_prices.values()))\n",
        "plt.title('Average Price per Category')\n",
        "plt.xlabel('Category')\n",
        "plt.ylabel('Average Price (£)')\n",
        "plt.xticks(rotation=45, ha='right')\n",
        "plt.tight_layout()\n",
        "plt.show()"
      ],
      "metadata": {
        "id": "iSFHwYI3D1NA"
      },
      "execution_count": null,
      "outputs": []
    },
    {
      "cell_type": "code",
      "source": [
        "# Cell 4: Bar Graph - Average Rating per Category\n",
        "plt.figure(figsize=(10, 6))\n",
        "sns.barplot(x=list(category_ratings.keys()), y=list(category_ratings.values()))\n",
        "plt.title('Average Rating per Category')\n",
        "plt.xlabel('Category')\n",
        "plt.ylabel('Average Star Rating')\n",
        "plt.xticks(rotation=45, ha='right')\n",
        "plt.tight_layout()\n",
        "plt.show()"
      ],
      "metadata": {
        "id": "Hv-wZtyRECC9"
      },
      "execution_count": null,
      "outputs": []
    },
    {
      "cell_type": "code",
      "source": [
        "plt.figure(figsize=(14, 6))\n",
        "# plt.subplot(1, 2, 1)\n",
        "sns.boxplot(x='Category', y='Price', data=combined_df)\n",
        "plt.title('Price Distribution per Category')\n",
        "plt.xlabel('Category')\n",
        "plt.ylabel('Price (£)')\n",
        "plt.xticks(rotation=45, ha='right')\n",
        "plt.tight_layout()\n",
        "plt.show()"
      ],
      "metadata": {
        "id": "BuWRtreKLE5x"
      },
      "execution_count": null,
      "outputs": []
    },
    {
      "cell_type": "code",
      "source": [
        "# Cell 5: Box Plots for Price and Rating Distributions\n",
        "plt.figure(figsize=(14, 6))\n",
        "# plt.subplot(1, 2, 2)\n",
        "sns.boxplot(x='Category', y='Star Rating', data=combined_df)\n",
        "plt.title('Star Rating Distribution per Category')\n",
        "plt.xlabel('Category')\n",
        "plt.ylabel('Star Rating')\n",
        "plt.xticks(rotation=45, ha='right')\n",
        "plt.tight_layout()\n",
        "plt.show()"
      ],
      "metadata": {
        "id": "fmAQCm4YEEJ5"
      },
      "execution_count": null,
      "outputs": []
    },
    {
      "cell_type": "code",
      "source": [
        "# Cell 6: Histogram - Overall Price Distribution\n",
        "plt.figure(figsize=(8, 6))\n",
        "sns.histplot(combined_df['Price'], bins=20, kde=True)\n",
        "plt.title('Overall Price Distribution')\n",
        "plt.xlabel('Price (£)')\n",
        "plt.ylabel('Frequency')\n",
        "plt.tight_layout()\n",
        "plt.show()"
      ],
      "metadata": {
        "id": "1shskr0JEHMX"
      },
      "execution_count": null,
      "outputs": []
    },
    {
      "cell_type": "code",
      "source": [
        "# Cell 7: Histogram - Overall Star Rating Distribution\n",
        "plt.figure(figsize=(8, 6))\n",
        "sns.histplot(combined_df['Star Rating'], bins=5, kde=False)\n",
        "plt.title('Overall Star Rating Distribution')\n",
        "plt.xlabel('Star Rating')\n",
        "plt.ylabel('Frequency')\n",
        "plt.xticks(range(6))\n",
        "plt.tight_layout()\n",
        "plt.show()"
      ],
      "metadata": {
        "id": "l_6MtPN2EKQc"
      },
      "execution_count": null,
      "outputs": []
    },
    {
      "cell_type": "code",
      "source": [
        "# Cell 8: Heatmap - Distribution of Star Ratings Across Categories\n",
        "rating_category_counts = combined_df.groupby(['Category', 'Star Rating']).size().unstack(fill_value=0)\n",
        "\n",
        "plt.figure(figsize=(14, 8))\n",
        "sns.heatmap(rating_category_counts, annot=True, fmt='d', cmap='YlGnBu')\n",
        "plt.title('Distribution of Star Ratings Across Categories')\n",
        "plt.xlabel('Star Rating')\n",
        "plt.ylabel('Category')\n",
        "plt.tight_layout()\n",
        "plt.show()\n"
      ],
      "metadata": {
        "id": "d62DRNpLEM46"
      },
      "execution_count": null,
      "outputs": []
    },
    {
      "cell_type": "code",
      "source": [],
      "metadata": {
        "id": "XIzULWKnEPUt"
      },
      "execution_count": null,
      "outputs": []
    }
  ]
}