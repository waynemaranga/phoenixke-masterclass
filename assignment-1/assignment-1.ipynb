{
 "cells": [
  {
   "cell_type": "code",
   "execution_count": 90,
   "metadata": {},
   "outputs": [],
   "source": [
    "# -- Imports\n",
    "import httpx\n",
    "from bs4 import BeautifulSoup\n",
    "from bs4.element import ResultSet, Tag\n",
    "from httpx._models import Response\n",
    "from typing import Any, Optional\n",
    "import json\n",
    "import polars as pl\n",
    "import pathlib"
   ]
  },
  {
   "cell_type": "code",
   "execution_count": 91,
   "metadata": {},
   "outputs": [],
   "source": [
    "# -- URLs for Jiji Kenya\n",
    "JIJI_HOMEPAGE = \"https://jiji.co.ke/\"\n",
    "JIJI_VEHICLES = \"https://jiji.co.ke/vehicles\"\n",
    "JIJI_PROPERTY = \"https://jiji.co.ke/real-estate\"\n",
    "JIJI_ELECTRONICS = \"https://jiji.co.ke/electronics\"\n",
    "JIJI_HOME = \"https://jiji.co.ke/home-garden\" # Home, Furniture & Appliances"
   ]
  },
  {
   "cell_type": "code",
   "execution_count": 92,
   "metadata": {},
   "outputs": [],
   "source": [
    "# -- Fetch page content using httpx; returns the HTML content as a string\n",
    "def fetch_page(url: str) -> str:\n",
    "    response: Response = httpx.get(url, timeout=3)\n",
    "    response.raise_for_status()\n",
    "    return response.text"
   ]
  },
  {
   "cell_type": "code",
   "execution_count": 93,
   "metadata": {},
   "outputs": [
    {
     "name": "stdout",
     "output_type": "stream",
     "text": [
      "<!DOCTYPE html><html  dir=\"ltr\" lang=\"en\"><head><meta charset=\"utf-8\">\n",
      "<meta name=\"viewport\" content=\"width=device-width, initial-scale=1, maximum-scale=1\">\n",
      "<title>Free classifieds in Kenya ▷ Post free classified ads on Jiji.co.ke</title>\n",
      "<link nonce=\"I7BsANDKmFasxntEjESptHmx\" rel=\"preconnect\" href=\"https://assets.jijistatic.com\">\n",
      "<link nonce=\"I7BsANDKmFasxntEjESptHmx\" rel=\"stylesheet\" href=\"https://assets.jijistatic.com/nuxt/entry.DQ4eE3Mv.css\" crossorigin>\n",
      "<link nonce=\"I7BsANDKmFasxntEjESptHmx\" rel=\"stylesheet\" href=\"https://assets.jijistatic.com/nuxt/shared.O78TMMWs.css\" crossorigin>\n",
      "<link nonce=\"I7BsANDKmFasxntEjESptHmx\" rel=\"stylesheet\" href=\"https://assets.jijistatic.com/nuxt/default-custom-header.DL93suWI.css\" crossorigin>\n",
      "<meta name=\"description\" content=\"Free classifieds in Kenya ➔ ➔ ➔ Sell to Real People in Kenya on Jiji.co.ke ➔ Post Ad in Kenya ➔ local classified ads, more than online marketplace\">\n",
      "<link nonce=\"I7BsANDKmFasxntEjESptHmx\" rel=\"icon\" type=\"image/x-icon\" href=\"/\n"
     ]
    }
   ],
   "source": [
    "# -- Homepage; fetch and print the first 1000 characters\n",
    "homepage: str = fetch_page(JIJI_HOMEPAGE)\n",
    "print(homepage[:1000])  # Print the first 1000 characters of the homepage"
   ]
  },
  {
   "cell_type": "code",
   "execution_count": 94,
   "metadata": {},
   "outputs": [],
   "source": [
    "# -- Custom function to parse ads from the HTML content\n",
    "# Check README for expected structure from inspection using browser dev tools\n",
    "def parse_ads(html: str) -> list[Any]:\n",
    "    soup = BeautifulSoup(markup=html, features=\"html.parser\")\n",
    "    ads: list[Any] = []\n",
    "\n",
    "    ad_cards: ResultSet[Tag] = soup.select(\"div.b-list-advert__gallery__item\")\n",
    "\n",
    "    for card in ad_cards:\n",
    "        a_tag: Optional[Tag] = card.select_one(\"a.qa-advert-list-item\") # anchor tag; contains the URL\n",
    "        title: Optional[Tag] = card.select_one(\"div.qa-advert-title\") # title of the ad/product\n",
    "        price: Optional[Tag] = card.select_one(\"div.qa-advert-price\") # price\n",
    "        image: Optional[Tag] = card.select_one(\"img\") # image tag; first image in the ad\n",
    "        location: Optional[Tag] = card.select_one(\"span.b-list-advert__region__text\")\n",
    "        desc: Optional[Tag] = card.select_one(\"div.b-list-advert-base__description-text\")\n",
    "\n",
    "        ad: dict[str, Any] = {\n",
    "            \"title\": title.get_text(strip=True) if title else None,\n",
    "            \"price\": price.get_text(strip=True) if price else None,\n",
    "            # \"location\": location.get_text(strip=True) if location else None, # rendered ::after; use Selenium\n",
    "            \"url\": f\"https://jiji.co.ke{a_tag['href']}\" if a_tag and a_tag.has_attr('href') else None,\n",
    "            \"description\": desc.get_text(strip=True) if desc else None,\n",
    "            # \"image_url\": image['src'] if image and image.has_attr('src') else None,\n",
    "        }\n",
    "\n",
    "        ads.append(ad)\n",
    "    \n",
    "    return ads"
   ]
  },
  {
   "cell_type": "code",
   "execution_count": 95,
   "metadata": {},
   "outputs": [
    {
     "name": "stdout",
     "output_type": "stream",
     "text": [
      "Found 60 ads on the homepage.\n",
      "{'title': 'Toyota Supra 3.0 Premium 2020 Black', 'price': 'KSh 10,999,999', 'url': 'https://jiji.co.ke/kilimani/cars/toyota-supra-3-0-premium-2020-black-7qj2Z7pnLR28HMb6pErHVJfi.html?indexPosition=0', 'description': '2019 Toyota Supra GR \\nGT4 concept\\n3000cc Petrol \\n2 door coupe\\n8 speed automatic \\nRWD\\nGet in touch...'}\n",
      "{'title': 'Lexus IS 250 Automatic 2012 Black', 'price': 'KSh 1,550,000', 'url': 'https://jiji.co.ke/upperhill/cars/lexus-is-250-automatic-2012-black-1oHOmNJwc2k8gd2CvEjpKRB7.html?indexPosition=4', 'description': 'Lexus IS// 2500cc// Petrol// front wheel drive// bose speaker// unregistered// beige interior//...'}\n",
      "{'title': 'Volvo S90 2018 White', 'price': 'KSh 3,350,000', 'url': 'https://jiji.co.ke/kilimani/cars/volvo-s90-2018-white-uiimpift1lNecEdk89KZAIt6.html?indexPosition=8', 'description': '2018 volvo s90 t5_leather\\n _specs_\\n2000cc petrol :: 360 degres camera :: bowers & wilkins music...'}\n",
      "{'title': 'Honda Fit 2011 Silver', 'price': 'KSh 599,000', 'url': 'https://jiji.co.ke/ruaka-banana/cars/honda-fit-2011-silver-mt82ExWoPsdanLDxD6k5vdK5.html?indexPosition=12', 'description': 'Honda fit hybrid, 1300cc,2wd,2011,accident free buy and drive car'}\n",
      "{'title': 'Mazda CX-5 2013 White', 'price': 'KSh 1,300,000', 'url': 'https://jiji.co.ke/mugumo-ini-langata/cars/mazda-cx-5-2013-white-iG9QttF0gyASxzHNzFb5hfRF.html?indexPosition=16', 'description': '2013 MAZDA CX-5 (KCY)\\n2200cc\\r\\nAutomatic \\r\\nDiesel \\r\\n4WD \\r\\n5 doors\\r\\n5 seats\\r\\nDuty paid \\r\\nLocally used...'}\n"
     ]
    },
    {
     "data": {
      "text/plain": [
       "[None, None, None, None, None]"
      ]
     },
     "execution_count": 95,
     "metadata": {},
     "output_type": "execute_result"
    }
   ],
   "source": [
    "# -- Homepage: https://jiji.co.ke/\n",
    "homepage_ads: list[Any] = parse_ads(homepage)\n",
    "print(f\"Found {len(homepage_ads)} ads on the homepage.\")\n",
    "[print(ad) for ad in homepage_ads[:5]]"
   ]
  },
  {
   "cell_type": "code",
   "execution_count": 96,
   "metadata": {},
   "outputs": [
    {
     "name": "stdout",
     "output_type": "stream",
     "text": [
      "Found 20 vehicle ads.\n",
      "{'title': 'Fuel Pump Honda', 'price': 'KSh 8,300', 'url': 'https://jiji.co.ke/ngara/car-parts-and-accessories/fuel-pump-honda-96qwpuXgysNllpcOx2ii4Jlo.html', 'description': 'All fuel pumps for Honda Accord, Civic, stream all available at simrose Autospares, Nairobi.'}\n",
      "{'title': 'Toyota Hiace 7L New Aluminium Plastic Radiator on Sale', 'price': 'KSh 18,000', 'url': 'https://jiji.co.ke/viwandani-makadara/car-parts-and-accessories/toyota-hiace-7l-new-aluminium-plastic-radiator-on-sale-wdlm5LMI3jHIBBd2c25oM1a9.html', 'description': 'Toyota hiace new aluminium plastic radiator on sale \\n- still in a carton, brand new\\n- we stock most...'}\n",
      "{'title': 'Weather-resistant Black Rubber Boot Seal 5m Roll For Cars', 'price': 'KSh 1,500', 'url': 'https://jiji.co.ke/ridgeways/car-parts-and-accessories/weather-resistant-black-rubber-boot-seal-5m-roll-for-cars-nQ6AWDSO2NLieuw5eaPxN0HD.html', 'description': 'Weatherproof Black Rubber Boot Seal – 5 Meters for Perfect Fit\\nUpgrade your car’s boot seal with...'}\n",
      "{'title': '265/70r16 Maxxis Razr at-781', 'price': 'KSh 20,000', 'url': 'https://jiji.co.ke/nairobi-central/car-parts-and-accessories/265-70r16-maxxis-razr-at-781-z3Ou0xJ7boc5bb3694QtzDMB.html', 'description': 'The all-new Maxxis RAZR AT-S offers an extraordinary combination of on and off the road...'}\n",
      "{'title': 'Hilux Revo Side Mirror', 'price': 'KSh 15,000', 'url': 'https://jiji.co.ke/nairobi-central/car-parts-and-accessories/hilux-revo-side-mirror-isSJAINbgzhjX1RRo2ryIs3y.html', 'description': 'We deliver countrywide'}\n"
     ]
    },
    {
     "data": {
      "text/plain": [
       "[None, None, None, None, None]"
      ]
     },
     "execution_count": 96,
     "metadata": {},
     "output_type": "execute_result"
    }
   ],
   "source": [
    "# -- Vehicles: https://jiji.co.ke/vehicles\n",
    "vehicle_ads: str = parse_ads(fetch_page(JIJI_VEHICLES)) # shortened for brevity\n",
    "print(f\"Found {len(vehicle_ads)} vehicle ads.\")\n",
    "[print(ad) for ad in vehicle_ads[:5]]"
   ]
  },
  {
   "cell_type": "code",
   "execution_count": 97,
   "metadata": {},
   "outputs": [
    {
     "name": "stdout",
     "output_type": "stream",
     "text": [
      "Found 20 property ads.\n",
      "{'title': '2bdrm Apartment in Upperhill for rent', 'price': 'KSh 65,000', 'url': 'https://jiji.co.ke/upperhill/houses-apartments-for-rent/2bdrm-apartment-in-upperhill-for-rent-3fLwVnooSMHvQZlG8gdOEp9t.html', 'description': 'This spacious 2 bedroom both ensuite apartment in a very secure apartment complex with ample parking...'}\n",
      "{'title': '4bdrm Maisonette in Kitengela for rent', 'price': 'KSh 55,000', 'url': 'https://jiji.co.ke/kitengela/houses-apartments-for-rent/4bdrm-maisonette-in-kitengela-for-rent-hVeihzQdXBLONtYsGkqL9Nsw.html', 'description': 'IN KITENGELA\\n4 Bedroom All En-suite For Rent in Kitengela, Milimani Area \\n Call or...'}\n",
      "{'title': 'Furnished Studio Apartment', 'price': 'KSh 3,000', 'url': 'https://jiji.co.ke/nairobi-west/temporary-and-vacation-rentals/furnished-studio-apartment-bdsnPtPqkkk7LnZ7BJTggu1F.html', 'description': 'Welcome to Your Home Away from Home!\\nRelax and unwind in our stylish and cozy studio apartment...'}\n",
      "{'title': 'Furnished Studio Apartment in Attic Place, Nairobi South for rent', 'price': 'KSh 1,999', 'url': 'https://jiji.co.ke/nairobi-south/houses-apartments-for-rent/furnished-studio-apartment-in-attic-place-nairobi-south-for-rent-s1AQEjvrPT3IT8A3MdKYJXK3.html', 'description': 'Studio apartment located in south B , There is free parking, fast wifi and a lift.'}\n",
      "{'title': 'Prime Plot for Sale in Nanyuki Neighbouring Nanyuki Air Base', 'price': 'KSh 3,500,000', 'url': 'https://jiji.co.ke/nanyuki/commercial-properties/prime-plot-for-sale-in-nanyuki-neighbouring-nanyuki-air-base-wnnn1xYojOCimXgzt5V4dGDb.html', 'description': 'Ideal for apartment/rentals'}\n"
     ]
    },
    {
     "data": {
      "text/plain": [
       "[None, None, None, None, None]"
      ]
     },
     "execution_count": 97,
     "metadata": {},
     "output_type": "execute_result"
    }
   ],
   "source": [
    "# -- Property: https://jiji.co.ke/real-estate\n",
    "property_ads: str = parse_ads(fetch_page(JIJI_PROPERTY))\n",
    "print(f\"Found {len(property_ads)} property ads.\")\n",
    "[print(ad) for ad in property_ads[:5]]"
   ]
  },
  {
   "cell_type": "code",
   "execution_count": 98,
   "metadata": {},
   "outputs": [
    {
     "name": "stdout",
     "output_type": "stream",
     "text": [
      "Found 20 electronic ads.\n",
      "{'title': 'On Pole Fiber Cable Storage Bracket', 'price': 'KSh 1,799', 'url': 'https://jiji.co.ke/nairobi-central/accessories-and-supplies-for-electronics/on-pole-fiber-cable-storage-bracket-3nWcr0Qs0DGyh36OEtgkHlPC.html', 'description': 'Fiber Cable Storage Bracket is used for winding extra cable on pole/tower, normally used with...'}\n",
      "{'title': 'Hp Sh03xl Laptop Battery', 'price': 'KSh 5,500', 'url': 'https://jiji.co.ke/nairobi-central/computer-accessories/hp-sh03xl-laptop-battery-vVs8OvPA2SpHjyq1E686gApq.html', 'description': 'Battery Type: Lithium polymer\\r\\nVoltage: 11.55V\\r\\nCapacity: 57.9WH\\r\\nCells: 6 Cells\\r\\nColor:...'}\n",
      "{'title': 'Capture Card USB to HDMI', 'price': 'KSh 1,800', 'url': 'https://jiji.co.ke/nairobi-central/audio-and-music-equipment/capture-card-usb-to-hdmi-k9VFi5uI6YMR0IAvMpejGFK0.html', 'description': 'Capture card usb to hdmi available'}\n",
      "{'title': '32 Inch Frameless Smart Android TV 3200S', 'price': 'KSh 11,299', 'url': 'https://jiji.co.ke/nairobi-central/tv-dvd-equipment/32-inch-frameless-smart-android-tv-3200s-qaBl4IFG1AgT4A26Jg5ycFT2.html', 'description': 'Frameless 32” Smart HD LED TV HTC3200S\\nSmart TV – Browse and enjoy online video; YouTube, Netflix,...'}\n",
      "{'title': 'Laptop Dell 32GB Intel Core I9 SSD 512GB', 'price': 'KSh 200,000', 'url': 'https://jiji.co.ke/nairobi-central/computers-and-laptops/laptop-dell-32gb-intel-core-i9-ssd-512gb-be5cAUKRUvTzIPKkmGa359Yd.html', 'description': 'Dell XPS 17 9710 17\" Slightly used*\\nHighlights\\n• 11th Gen Intel Core i9-11900H\\n• 32GB DDR5 RAM |...'}\n"
     ]
    },
    {
     "data": {
      "text/plain": [
       "[None, None, None, None, None]"
      ]
     },
     "execution_count": 98,
     "metadata": {},
     "output_type": "execute_result"
    }
   ],
   "source": [
    "# -- Electronics: https://jiji.co.ke/electronics\n",
    "electronic_ads: str = parse_ads(fetch_page(JIJI_ELECTRONICS))\n",
    "print(f\"Found {len(electronic_ads)} electronic ads.\")\n",
    "[print(ad) for ad in electronic_ads[:5]]"
   ]
  },
  {
   "cell_type": "code",
   "execution_count": 99,
   "metadata": {},
   "outputs": [
    {
     "name": "stdout",
     "output_type": "stream",
     "text": [
      "Found 20 home and garden ads.\n",
      "{'title': '12pcs Set 6 Mugs 6 Dinner Plates', 'price': 'KSh 3,200', 'url': 'https://jiji.co.ke/nairobi-central/kitchen-and-dining/12pcs-set-6-mugs-6-dinner-plates-iscHpYnrVmgKe2hkijVFTYlx.html', 'description': '12pcs Set ,6 Mugs, 6 Dinner Plates'}\n",
      "{'title': 'Coffee Maker Machine - Sokany', 'price': 'KSh 2,600', 'url': 'https://jiji.co.ke/nairobi-central/kitchen-appliances/coffee-maker-machine-sokany-17VmLAQAl22m2z4R5XrX5zBC.html', 'description': 'Coffee maker machine - sokany'}\n",
      "{'title': 'Roch 20ltrs Manual Microwave', 'price': 'KSh 7,300', 'url': 'https://jiji.co.ke/nairobi-central/kitchen-appliances/roch-20ltrs-manual-microwave-zLPn5d0FzSD52Aul6kjSedRA.html', 'description': 'Roch manual microwave available'}\n",
      "{'title': 'Black Aliyons Kettle', 'price': 'KSh 1,200', 'url': 'https://jiji.co.ke/nairobi-central/kitchen-appliances/black-aliyons-kettle-g7TXKOr5yTH1sn2elu0QBLcw.html', 'description': 'Located at Nairobi tearoom junction of Accra and Munyu road Scorpio business center/Mobitop second...'}\n",
      "{'title': 'Full Moon /Chendelier', 'price': 'KSh 8,500', 'url': 'https://jiji.co.ke/nairobi-central/decor-accessories/full-moon-chendelier-k7dcU9XAsK8WPyAY9x9vgx4q.html', 'description': 'Classy and designed chandeliers\\nwith remote control switch\\nit has multiple selection colours\\nLED...'}\n"
     ]
    },
    {
     "data": {
      "text/plain": [
       "[None, None, None, None, None]"
      ]
     },
     "execution_count": 99,
     "metadata": {},
     "output_type": "execute_result"
    }
   ],
   "source": [
    "# -- Home, Furniture & Appliances: https://jiji.co.ke/home-garden\n",
    "home_garden_ads: str = parse_ads(fetch_page(JIJI_HOME))\n",
    "print(f\"Found {len(home_garden_ads)} home and garden ads.\")\n",
    "[print(ad) for ad in home_garden_ads[:5]]"
   ]
  },
  {
   "cell_type": "code",
   "execution_count": 100,
   "metadata": {},
   "outputs": [],
   "source": [
    "# -- Write ads to a JSON file\n",
    "def write_to_json(ads: list, filename: str) -> None:\n",
    "    numbered_ads = {f\"{i+1:04}\": ad for i, ad in enumerate(ads)}\n",
    "    with open(filename, \"w\", encoding=\"utf-8\") as f:\n",
    "        json.dump(numbered_ads, f, indent=2, ensure_ascii=False)\n",
    "    print(f\"✅ {len(ads)} ads written to {filename}\")"
   ]
  },
  {
   "cell_type": "code",
   "execution_count": 101,
   "metadata": {},
   "outputs": [
    {
     "name": "stdout",
     "output_type": "stream",
     "text": [
      "✅ 60 ads written to /home/neo/Projects/phoenixke-masterclass/output/homepage_ads.json\n",
      "✅ 20 ads written to /home/neo/Projects/phoenixke-masterclass/output/vehicle_ads.json\n",
      "✅ 20 ads written to /home/neo/Projects/phoenixke-masterclass/output/property_ads.json\n",
      "✅ 20 ads written to /home/neo/Projects/phoenixke-masterclass/output/electronic_ads.json\n",
      "✅ 20 ads written to /home/neo/Projects/phoenixke-masterclass/output/home_garden_ads.json\n"
     ]
    }
   ],
   "source": [
    "# -- Save all ads to a single file\n",
    "OUTPUT_DIR: pathlib.Path = pathlib.Path.cwd().parent / \"output\"\n",
    "OUTPUT_DIR.mkdir(parents=True, exist_ok=True)\n",
    "write_to_json(homepage_ads, f\"{OUTPUT_DIR}/homepage_ads.json\")\n",
    "write_to_json(vehicle_ads, f\"{OUTPUT_DIR}/vehicle_ads.json\")\n",
    "write_to_json(property_ads, f\"{OUTPUT_DIR}/property_ads.json\")\n",
    "write_to_json(electronic_ads, f\"{OUTPUT_DIR}/electronic_ads.json\")\n",
    "write_to_json(home_garden_ads, f\"{OUTPUT_DIR}/home_garden_ads.json\")"
   ]
  },
  {
   "cell_type": "code",
   "execution_count": 102,
   "metadata": {},
   "outputs": [],
   "source": [
    "# -- Write ads to dataframe; use unique IDs\n",
    "def write_to_dataframe(metalist: list) -> None:\n",
    "    # Use a list of lists i.e a metalist to create a DataFrame with unique IDs\n",
    "    all_ads = [ad for ad_list in metalist for ad in ad_list]\n",
    "    df = pl.DataFrame(all_ads)\n",
    "\n",
    "    # Add 5-digit ad_id column\n",
    "    ad_ids: list[str] = [f\"{i+1:05}\" for i in range(df.height)]\n",
    "    df: pl.DataFrame = df.with_columns(pl.Series(\"ad_id\", ad_ids))\n",
    "    \n",
    "    return df\n",
    "\n",
    "# -- Write df to CSV file\n",
    "def write_to_csv(df: pl.DataFrame, filename: str) -> None:\n",
    "    df.write_csv(filename)\n",
    "    print(f\"✅ DataFrame written to {filename}\")"
   ]
  },
  {
   "cell_type": "code",
   "execution_count": 103,
   "metadata": {},
   "outputs": [
    {
     "name": "stdout",
     "output_type": "stream",
     "text": [
      "DataFrame shape: (140, 5)\n",
      "shape: (5, 5)\n",
      "┌────────────────────────┬────────────────┬────────────────────────┬───────────────────────┬───────┐\n",
      "│ title                  ┆ price          ┆ url                    ┆ description           ┆ ad_id │\n",
      "│ ---                    ┆ ---            ┆ ---                    ┆ ---                   ┆ ---   │\n",
      "│ str                    ┆ str            ┆ str                    ┆ str                   ┆ str   │\n",
      "╞════════════════════════╪════════════════╪════════════════════════╪═══════════════════════╪═══════╡\n",
      "│ Toyota Supra 3.0       ┆ KSh 10,999,999 ┆ https://jiji.co.ke/kil ┆ 2019 Toyota Supra GR  ┆ 00001 │\n",
      "│ Premium 2020 …         ┆                ┆ imani/ca…              ┆ GT4 conc…             ┆       │\n",
      "│ Lexus IS 250 Automatic ┆ KSh 1,550,000  ┆ https://jiji.co.ke/upp ┆ Lexus IS// 2500cc//   ┆ 00002 │\n",
      "│ 2012 Bl…               ┆                ┆ erhill/c…              ┆ Petrol// f…           ┆       │\n",
      "│ Volvo S90 2018 White   ┆ KSh 3,350,000  ┆ https://jiji.co.ke/kil ┆ 2018 volvo s90        ┆ 00003 │\n",
      "│                        ┆                ┆ imani/ca…              ┆ t5_leather            ┆       │\n",
      "│                        ┆                ┆                        ┆  _sp…                 ┆       │\n",
      "│ Honda Fit 2011 Silver  ┆ KSh 599,000    ┆ https://jiji.co.ke/rua ┆ Honda fit hybrid,     ┆ 00004 │\n",
      "│                        ┆                ┆ ka-banan…              ┆ 1300cc,2wd,2…         ┆       │\n",
      "│ Mazda CX-5 2013 White  ┆ KSh 1,300,000  ┆ https://jiji.co.ke/mug ┆ 2013 MAZDA CX-5 (KCY) ┆ 00005 │\n",
      "               ┆       │ ┆                ┆ umo-ini-…              ┆ 2200cc\n",
      "│                        ┆                ┆                        ┆ …                     ┆       │\n",
      "└────────────────────────┴────────────────┴────────────────────────┴───────────────────────┴───────┘\n"
     ]
    }
   ],
   "source": [
    "data_frame = write_to_dataframe([homepage_ads, vehicle_ads, property_ads, electronic_ads, home_garden_ads])\n",
    "print(f\"DataFrame shape: {data_frame.shape}\")\n",
    "print(data_frame.head(5))  # Print the first 5 rows of the DataFrame"
   ]
  },
  {
   "cell_type": "code",
   "execution_count": 104,
   "metadata": {},
   "outputs": [
    {
     "name": "stdout",
     "output_type": "stream",
     "text": [
      "✅ DataFrame written to /home/neo/Projects/phoenixke-masterclass/output/jiji_ads.csv\n"
     ]
    }
   ],
   "source": [
    "write_to_csv(data_frame, F\"{OUTPUT_DIR}/jiji_ads.csv\")"
   ]
  },
  {
   "cell_type": "code",
   "execution_count": null,
   "metadata": {},
   "outputs": [],
   "source": []
  }
 ],
 "metadata": {
  "kernelspec": {
   "display_name": ".venv",
   "language": "python",
   "name": "python3"
  },
  "language_info": {
   "codemirror_mode": {
    "name": "ipython",
    "version": 3
   },
   "file_extension": ".py",
   "mimetype": "text/x-python",
   "name": "python",
   "nbconvert_exporter": "python",
   "pygments_lexer": "ipython3",
   "version": "3.12.10"
  }
 },
 "nbformat": 4,
 "nbformat_minor": 2
}
