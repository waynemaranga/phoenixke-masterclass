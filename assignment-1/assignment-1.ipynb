{
 "cells": [
  {
   "cell_type": "markdown",
   "metadata": {},
   "source": [
    "### Intro to Web Scraping - Assignment"
   ]
  },
  {
   "cell_type": "markdown",
   "metadata": {},
   "source": [
    "#### Imports"
   ]
  },
  {
   "cell_type": "code",
   "execution_count": 22,
   "metadata": {},
   "outputs": [],
   "source": [
    "import httpx\n",
    "from bs4 import BeautifulSoup\n",
    "from bs4.element import ResultSet, Tag\n",
    "from httpx._models import Response\n",
    "from typing import Any, Optional\n"
   ]
  },
  {
   "cell_type": "markdown",
   "metadata": {},
   "source": [
    "#### Scraping the Jiji homepage for classifieds"
   ]
  },
  {
   "cell_type": "code",
   "execution_count": 23,
   "metadata": {},
   "outputs": [],
   "source": [
    "JIJI_HOMEPAGE = \"https://jiji.co.ke/\"\n",
    "JIJI_VEHICLES = \"https://jiji.co.ke/vehicles\"\n",
    "JIJI_PROPERTY = \"https://jiji.co.ke/real-estate\"\n",
    "JIJI_ELECTRONICS = \"https://jiji.co.ke/electronics\"\n",
    "JIJI_HOME = \"https://jiji.co.ke/home-garden\""
   ]
  },
  {
   "cell_type": "code",
   "execution_count": 24,
   "metadata": {},
   "outputs": [],
   "source": [
    "def fetch_page(url: str) -> str:\n",
    "    response: Response = httpx.get(url, timeout=3)\n",
    "    response.raise_for_status()\n",
    "    return response.text"
   ]
  },
  {
   "cell_type": "code",
   "execution_count": 25,
   "metadata": {},
   "outputs": [
    {
     "name": "stdout",
     "output_type": "stream",
     "text": [
      "<!DOCTYPE html><html  dir=\"ltr\" lang=\"en\"><head><meta charset=\"utf-8\">\n",
      "<meta name=\"viewport\" content=\"width=device-width, initial-scale=1, maximum-scale=1\">\n",
      "<title>Free classifieds in Kenya ▷ Post free classified ads on Jiji.co.ke</title>\n",
      "<link nonce=\"5gmd9Xps15Z+8qNqMZsych+i\" rel=\"preconnect\" href=\"https://assets.jijistatic.com\">\n",
      "<link nonce=\"5gmd9Xps15Z+8qNqMZsych+i\" rel=\"stylesheet\" href=\"https://assets.jijistatic.com/nuxt/entry.DQ4eE3Mv.css\" crossorigin>\n",
      "<link nonce=\"5gmd9Xps15Z+8qNqMZsych+i\" rel=\"stylesheet\" href=\"https://assets.jijistatic.com/nuxt/shared.O78TMMWs.css\" crossorigin>\n",
      "<link nonce=\"5gmd9Xps15Z+8qNqMZsych+i\" rel=\"stylesheet\" href=\"https://assets.jijistatic.com/nuxt/default-custom-header.DL93suWI.css\" crossorigin>\n",
      "<meta name=\"description\" content=\"Free classifieds in Kenya ➔ ➔ ➔ Sell to Real People in Kenya on Jiji.co.ke ➔ Post Ad in Kenya ➔ local classified ads, more than online marketplace\">\n",
      "<link nonce=\"5gmd9Xps15Z+8qNqMZsych+i\" rel=\"icon\" type=\"image/x-icon\" href=\"/\n"
     ]
    }
   ],
   "source": [
    "homepage: str = fetch_page(JIJI_HOMEPAGE)\n",
    "print(homepage[:1000])  # Print the first 1000 characters of the homepage"
   ]
  },
  {
   "cell_type": "code",
   "execution_count": 26,
   "metadata": {},
   "outputs": [],
   "source": [
    "def parse_ads(html) -> list[Any]:\n",
    "    soup = BeautifulSoup(html, \"html.parser\")\n",
    "    ads: list[Any] = []\n",
    "\n",
    "    ad_cards: ResultSet[Tag] = soup.select(\"div.b-list-advert__gallery__item\")\n",
    "\n",
    "    for card in ad_cards:\n",
    "        a_tag: Optional[Tag] = card.select_one(\"a.qa-advert-list-item\")\n",
    "        title: Optional[Tag] = card.select_one(\"div.qa-advert-title\")\n",
    "        price: Optional[Tag] = card.select_one(\"div.qa-advert-price\")\n",
    "        image: Optional[Tag] = card.select_one(\"img\")\n",
    "        location: Optional[Tag] = card.select_one(\"span.b-list-advert__region__text\")\n",
    "        desc: Optional[Tag] = card.select_one(\"div.b-list-advert-base__description-text\")\n",
    "        attrs: ResultSet[Tag] = card.select(\"div.b-list-advert-base__item-attr\")\n",
    "        verified: Optional[Tag] = card.select_one(\"div.b-list-advert-base__label--blue\")\n",
    "\n",
    "        ad: dict[str, Any] = {\n",
    "            \"title\": title.get_text(strip=True) if title else None,\n",
    "            \"price\": price.get_text(strip=True) if price else None,\n",
    "            \"location\": location.get_text(strip=True) if location else None,\n",
    "            \"condition\": attrs[0].get_text(strip=True) if len(attrs) > 0 else None,\n",
    "            \"transmission\": attrs[1].get_text(strip=True) if len(attrs) > 1 else None,\n",
    "            \"verified_id\": bool(verified),\n",
    "            \"description\": desc.get_text(strip=True) if desc else None,\n",
    "            \"image_url\": image['src'] if image and image.has_attr('src') else None,\n",
    "            \"url\": f\"https://jiji.co.ke{a_tag['href']}\" if a_tag and a_tag.has_attr('href') else None,\n",
    "        }\n",
    "\n",
    "        ads.append(ad)\n",
    "    \n",
    "    return ads"
   ]
  },
  {
   "cell_type": "code",
   "execution_count": 27,
   "metadata": {},
   "outputs": [
    {
     "name": "stdout",
     "output_type": "stream",
     "text": [
      "Found 60 ads on the homepage.\n",
      "{'title': 'Toyota Supra 3.0 Premium 2020 Black', 'price': 'KSh 10,999,999', 'location': None, 'condition': 'Foreign Used', 'transmission': 'Automatic', 'verified_id': False, 'description': '2019 Toyota Supra GR \\nGT4 concept\\n3000cc Petrol \\n2 door coupe\\n8 speed automatic \\nRWD\\nGet in touch...', 'image_url': 'https://pictures-kenya.jijistatic.com/76535591_MzAwLTQwMC1kYjM4NTU2ZGJk.webp', 'url': 'https://jiji.co.ke/kilimani/cars/toyota-supra-3-0-premium-2020-black-7qj2Z7pnLR28HMb6pErHVJfi.html?indexPosition=0'}\n",
      "{'title': 'Lexus IS 250 Automatic 2012 Black', 'price': 'KSh 1,550,000', 'location': None, 'condition': 'Local Used', 'transmission': 'Automatic', 'verified_id': False, 'description': 'Lexus IS// 2500cc// Petrol// front wheel drive// bose speaker// unregistered// beige interior//...', 'image_url': 'https://pictures-kenya.jijistatic.com/76672738_MzAwLTIwMC02Yzg0MWY4ODQx.webp', 'url': 'https://jiji.co.ke/upperhill/cars/lexus-is-250-automatic-2012-black-1oHOmNJwc2k8gd2CvEjpKRB7.html?indexPosition=4'}\n",
      "{'title': 'Volvo S90 2018 White', 'price': 'KSh 3,350,000', 'location': None, 'condition': 'Local Used', 'transmission': 'Automatic', 'verified_id': False, 'description': '2018 volvo s90 t5_leather\\n _specs_\\n2000cc petrol :: 360 degres camera :: bowers & wilkins music...', 'image_url': 'https://pictures-kenya.jijistatic.com/76580315_MzAwLTIxNi1iMDdkZGE1ODBl.webp', 'url': 'https://jiji.co.ke/kilimani/cars/volvo-s90-2018-white-uiimpift1lNecEdk89KZAIt6.html?indexPosition=8'}\n",
      "{'title': 'Honda Fit 2011 Silver', 'price': 'KSh 599,000', 'location': None, 'condition': 'Local Used', 'transmission': 'Automatic', 'verified_id': False, 'description': 'Honda fit hybrid, 1300cc,2wd,2011,accident free buy and drive car', 'image_url': 'https://pictures-kenya.jijistatic.com/76604134_MzAwLTIyNi1jNzdhYzdkNzAw.webp', 'url': 'https://jiji.co.ke/ruaka-banana/cars/honda-fit-2011-silver-mt82ExWoPsdanLDxD6k5vdK5.html?indexPosition=12'}\n",
      "{'title': 'Mazda CX-5 2013 White', 'price': 'KSh 1,300,000', 'location': None, 'condition': 'Local Used', 'transmission': 'Automatic', 'verified_id': False, 'description': '2013 MAZDA CX-5 (KCY)\\n2200cc\\r\\nAutomatic \\r\\nDiesel \\r\\n4WD \\r\\n5 doors\\r\\n5 seats\\r\\nDuty paid \\r\\nLocally used...', 'image_url': 'https://pictures-kenya.jijistatic.com/76448942_MzAwLTIyNS1lYzg5MDI2ZDBi.webp', 'url': 'https://jiji.co.ke/mugumo-ini-langata/cars/mazda-cx-5-2013-white-iG9QttF0gyASxzHNzFb5hfRF.html?indexPosition=16'}\n"
     ]
    },
    {
     "data": {
      "text/plain": [
       "[None, None, None, None, None]"
      ]
     },
     "execution_count": 27,
     "metadata": {},
     "output_type": "execute_result"
    }
   ],
   "source": [
    "homepage_ads: list[Any] = parse_ads(homepage)\n",
    "print(f\"Found {len(homepage_ads)} ads on the homepage.\")\n",
    "[print(ad) for ad in homepage_ads[:5]]\n"
   ]
  },
  {
   "cell_type": "code",
   "execution_count": null,
   "metadata": {},
   "outputs": [],
   "source": []
  },
  {
   "cell_type": "code",
   "execution_count": null,
   "metadata": {},
   "outputs": [],
   "source": []
  }
 ],
 "metadata": {
  "kernelspec": {
   "display_name": ".venv",
   "language": "python",
   "name": "python3"
  },
  "language_info": {
   "codemirror_mode": {
    "name": "ipython",
    "version": 3
   },
   "file_extension": ".py",
   "mimetype": "text/x-python",
   "name": "python",
   "nbconvert_exporter": "python",
   "pygments_lexer": "ipython3",
   "version": "3.12.10"
  }
 },
 "nbformat": 4,
 "nbformat_minor": 2
}
