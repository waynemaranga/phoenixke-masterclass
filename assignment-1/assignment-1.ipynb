{
 "cells": [
  {
   "cell_type": "markdown",
   "metadata": {},
   "source": [
    "This notebook scrapes classified ads from [Jiji.co.ke](https://www.jiji.co.ke), inclusing vehicles, electronics, property, and home appliances. It uses BeautifulSoup to parse HTML and extract key ad data such as title, price, and description. The extracted data is saved to structured JSON files and combined into a single CSV, all stored in an `output` directory."
   ]
  },
  {
   "cell_type": "code",
   "execution_count": null,
   "metadata": {},
   "outputs": [],
   "source": [
    "# -- Imports\n",
    "import httpx\n",
    "from bs4 import BeautifulSoup\n",
    "from bs4.element import ResultSet, Tag\n",
    "from httpx._models import Response\n",
    "from typing import Any, Optional\n",
    "import json\n",
    "import polars as pl # pandas alternative\n",
    "import pathlib"
   ]
  },
  {
   "cell_type": "code",
   "execution_count": null,
   "metadata": {},
   "outputs": [],
   "source": [
    "# -- URLs for Jiji Kenya\n",
    "JIJI_HOMEPAGE = \"https://jiji.co.ke/\"\n",
    "JIJI_VEHICLES = \"https://jiji.co.ke/vehicles\"\n",
    "JIJI_PROPERTY = \"https://jiji.co.ke/real-estate\"\n",
    "JIJI_ELECTRONICS = \"https://jiji.co.ke/electronics\"\n",
    "JIJI_HOME = \"https://jiji.co.ke/home-garden\" # Home, Furniture & Appliances"
   ]
  },
  {
   "cell_type": "code",
   "execution_count": null,
   "metadata": {},
   "outputs": [],
   "source": [
    "# -- Fetch page content using httpx; returns the HTML content as a string\n",
    "def fetch_page(url: str) -> str:\n",
    "    response: Response = httpx.get(url, timeout=3)\n",
    "    response.raise_for_status()\n",
    "    return response.text"
   ]
  },
  {
   "cell_type": "code",
   "execution_count": null,
   "metadata": {},
   "outputs": [],
   "source": [
    "# -- Homepage; fetch and print the first 1000 characters\n",
    "homepage: str = fetch_page(JIJI_HOMEPAGE)\n",
    "print(homepage[:1000])  # Print the first 1000 characters of the homepage"
   ]
  },
  {
   "cell_type": "code",
   "execution_count": null,
   "metadata": {},
   "outputs": [],
   "source": [
    "# -- Custom function to parse ads from the HTML content\n",
    "# Check README for expected structure from inspection using browser dev tools\n",
    "def parse_ads(html: str) -> list[Any]:\n",
    "    soup = BeautifulSoup(markup=html, features=\"html.parser\")\n",
    "    ads: list[Any] = []\n",
    "\n",
    "    ad_cards: ResultSet[Tag] = soup.select(\"div.b-list-advert__gallery__item\")\n",
    "\n",
    "    for card in ad_cards:\n",
    "        a_tag: Optional[Tag] = card.select_one(\"a.qa-advert-list-item\") # anchor tag; contains the URL\n",
    "        title: Optional[Tag] = card.select_one(\"div.qa-advert-title\") # title of the ad/product\n",
    "        price: Optional[Tag] = card.select_one(\"div.qa-advert-price\") # price\n",
    "        image: Optional[Tag] = card.select_one(\"img\") # image tag; first image in the ad\n",
    "        location: Optional[Tag] = card.select_one(\"span.b-list-advert__region__text\")\n",
    "        desc: Optional[Tag] = card.select_one(\"div.b-list-advert-base__description-text\")\n",
    "\n",
    "        ad: dict[str, Any] = {\n",
    "            \"title\": title.get_text(strip=True) if title else None,\n",
    "            \"price\": price.get_text(strip=True) if price else None,\n",
    "            # \"location\": location.get_text(strip=True) if location else None, # rendered ::after; use Selenium\n",
    "            \"url\": f\"https://jiji.co.ke{a_tag['href']}\" if a_tag and a_tag.has_attr('href') else None,\n",
    "            \"description\": desc.get_text(strip=True) if desc else None,\n",
    "            # \"image_url\": image['src'] if image and image.has_attr('src') else None,\n",
    "        }\n",
    "\n",
    "        ads.append(ad)\n",
    "    \n",
    "    return ads"
   ]
  },
  {
   "cell_type": "code",
   "execution_count": null,
   "metadata": {},
   "outputs": [],
   "source": [
    "# -- Homepage: https://jiji.co.ke/\n",
    "homepage_ads: list[Any] = parse_ads(homepage)\n",
    "print(f\"Found {len(homepage_ads)} ads on the homepage.\")\n",
    "[print(ad) for ad in homepage_ads[:5]]"
   ]
  },
  {
   "cell_type": "code",
   "execution_count": null,
   "metadata": {},
   "outputs": [],
   "source": [
    "# -- Vehicles: https://jiji.co.ke/vehicles\n",
    "vehicle_ads: str = parse_ads(fetch_page(JIJI_VEHICLES)) # shortened for brevity\n",
    "print(f\"Found {len(vehicle_ads)} vehicle ads.\")\n",
    "[print(ad) for ad in vehicle_ads[:5]]"
   ]
  },
  {
   "cell_type": "code",
   "execution_count": null,
   "metadata": {},
   "outputs": [],
   "source": [
    "# -- Property: https://jiji.co.ke/real-estate\n",
    "property_ads: str = parse_ads(fetch_page(JIJI_PROPERTY))\n",
    "print(f\"Found {len(property_ads)} property ads.\")\n",
    "[print(ad) for ad in property_ads[:5]]"
   ]
  },
  {
   "cell_type": "code",
   "execution_count": null,
   "metadata": {},
   "outputs": [],
   "source": [
    "# -- Electronics: https://jiji.co.ke/electronics\n",
    "electronic_ads: str = parse_ads(fetch_page(JIJI_ELECTRONICS))\n",
    "print(f\"Found {len(electronic_ads)} electronic ads.\")\n",
    "[print(ad) for ad in electronic_ads[:5]]"
   ]
  },
  {
   "cell_type": "code",
   "execution_count": null,
   "metadata": {},
   "outputs": [],
   "source": [
    "# -- Home, Furniture & Appliances: https://jiji.co.ke/home-garden\n",
    "home_garden_ads: str = parse_ads(fetch_page(JIJI_HOME))\n",
    "print(f\"Found {len(home_garden_ads)} home and garden ads.\")\n",
    "[print(ad) for ad in home_garden_ads[:5]]"
   ]
  },
  {
   "cell_type": "code",
   "execution_count": null,
   "metadata": {},
   "outputs": [],
   "source": [
    "# -- Write ads to a JSON file\n",
    "def write_to_json(ads: list, filename: str) -> None:\n",
    "    numbered_ads = {f\"{i+1:04}\": ad for i, ad in enumerate(ads)}\n",
    "    with open(filename, \"w\", encoding=\"utf-8\") as f:\n",
    "        json.dump(numbered_ads, f, indent=2, ensure_ascii=False)\n",
    "    print(f\"✅ {len(ads)} ads written to {filename}\")"
   ]
  },
  {
   "cell_type": "code",
   "execution_count": null,
   "metadata": {},
   "outputs": [],
   "source": [
    "# -- Save all ads to a single file\n",
    "OUTPUT_DIR: pathlib.Path = pathlib.Path.cwd().parent / \"output\"\n",
    "OUTPUT_DIR.mkdir(parents=True, exist_ok=True)\n",
    "write_to_json(homepage_ads, f\"{OUTPUT_DIR}/homepage_ads.json\")\n",
    "write_to_json(vehicle_ads, f\"{OUTPUT_DIR}/vehicle_ads.json\")\n",
    "write_to_json(property_ads, f\"{OUTPUT_DIR}/property_ads.json\")\n",
    "write_to_json(electronic_ads, f\"{OUTPUT_DIR}/electronic_ads.json\")\n",
    "write_to_json(home_garden_ads, f\"{OUTPUT_DIR}/home_garden_ads.json\")"
   ]
  },
  {
   "cell_type": "code",
   "execution_count": null,
   "metadata": {},
   "outputs": [],
   "source": [
    "# -- Write ads to dataframe; use unique IDs\n",
    "def write_to_dataframe(metalist: list) -> None:\n",
    "    # Use a list of lists i.e a metalist to create a DataFrame with unique IDs\n",
    "    all_ads = [ad for ad_list in metalist for ad in ad_list]\n",
    "    df = pl.DataFrame(all_ads)\n",
    "\n",
    "    # Add 5-digit ad_id column\n",
    "    ad_ids: list[str] = [f\"{i+1:05}\" for i in range(df.height)]\n",
    "    df: pl.DataFrame = df.with_columns(pl.Series(\"ad_id\", ad_ids))\n",
    "    \n",
    "    return df\n",
    "\n",
    "# -- Write df to CSV file\n",
    "def write_to_csv(df: pl.DataFrame, filename: str) -> None:\n",
    "    df.write_csv(filename)\n",
    "    print(f\"✅ DataFrame written to {filename}\")"
   ]
  },
  {
   "cell_type": "code",
   "execution_count": null,
   "metadata": {},
   "outputs": [],
   "source": [
    "data_frame = write_to_dataframe([homepage_ads, vehicle_ads, property_ads, electronic_ads, home_garden_ads])\n",
    "print(f\"DataFrame shape: {data_frame.shape}\")\n",
    "print(data_frame.head(5))  # Print the first 5 rows of the DataFrame"
   ]
  },
  {
   "cell_type": "code",
   "execution_count": null,
   "metadata": {},
   "outputs": [],
   "source": [
    "write_to_csv(data_frame, f\"{OUTPUT_DIR}/jiji_ads.csv\")"
   ]
  }
 ],
 "metadata": {
  "kernelspec": {
   "display_name": ".venv",
   "language": "python",
   "name": "python3"
  },
  "language_info": {
   "codemirror_mode": {
    "name": "ipython",
    "version": 3
   },
   "file_extension": ".py",
   "mimetype": "text/x-python",
   "name": "python",
   "nbconvert_exporter": "python",
   "pygments_lexer": "ipython3",
   "version": "3.12.10"
  }
 },
 "nbformat": 4,
 "nbformat_minor": 2
}
